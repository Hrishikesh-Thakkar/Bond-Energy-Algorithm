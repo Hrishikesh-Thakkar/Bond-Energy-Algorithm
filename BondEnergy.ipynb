{
 "cells": [
  {
   "cell_type": "code",
   "execution_count": 10,
   "metadata": {},
   "outputs": [
    {
     "name": "stdout",
     "output_type": "stream",
     "text": [
      "Attribute affinity matrix\n",
      "[45, 0, 45, 0]\n",
      "[0, 80, 5, 75]\n",
      "[45, 5, 53, 3]\n",
      "[0, 75, 3, 78]\n",
      "Access Site Sums\n",
      "[45, 5, 75, 3]\n"
     ]
    }
   ],
   "source": [
    "n_queries = 4\n",
    "n_attributes = 4\n",
    "#attribute usage matrix\n",
    "aum = [[1,0,1,0],[0,1,1,0],[0,1,0,1],[0,0,1,1]]\n",
    "\n",
    "#number of sites\n",
    "n_sites = 3 \n",
    "\n",
    "#access matrix\n",
    "acc = [[15,5,25,3],[20,0,25,0],[10,0,25,0]]\n",
    "\n",
    "#prefix sum for each query\n",
    "pre = [0 for i in range(n_queries)]\n",
    "for i in range(n_queries):\n",
    "    for j in range(n_sites):\n",
    "        pre[i] = pre[i]+acc[j][i]\n",
    "\n",
    "#attribute affinity matrix\n",
    "aam = [[0 for i in range(n_attributes)] for j in range(n_attributes)]\n",
    "\n",
    "#calculation of the aam\n",
    "for i in range(n_attributes):\n",
    "    for j in range(n_attributes):\n",
    "#         if(i==j):\n",
    "#             aam[i][j]=0\n",
    "#             continue\n",
    "        for q in range(n_queries):\n",
    "            if aum[q][i]==1 and aum[q][j]==1:\n",
    "                aam[i][j] = aam[i][j]+pre[q]\n",
    "          \n",
    "print(\"Attribute affinity matrix\")\n",
    "for i in range(n_attributes):\n",
    "    print(aam[i])\n",
    "print(\"Access Site Sums\")\n",
    "print(pre)"
   ]
  },
  {
   "cell_type": "code",
   "execution_count": 2,
   "metadata": {},
   "outputs": [],
   "source": [
    "def bond(Ax,Ay):\n",
    "    if Ax==-1 or Ay==-1:\n",
    "        return 0\n",
    "    ans = 0\n",
    "    for i in range(n_attributes):\n",
    "        ans = ans + (aam[i][Ax]*aam[i][Ay])\n",
    "    return ans\n",
    "\n",
    "def cont(Ai,Ak,Aj):\n",
    "    print(\"bond \",Ai, \"bond\", Ak, \" = \", bond(Ai,Ak))\n",
    "    print(\"bond \",Ak, \"bond\", Aj, \" = \", bond(Ak,Aj))\n",
    "    print(\"bond \",Ai, \"bond\", Aj, \" = \", bond(Ai,Aj))\n",
    "    return 2*bond(Ai,Ak) + 2*bond(Ak,Aj) - 2*bond(Ai,Aj)\n"
   ]
  },
  {
   "cell_type": "code",
   "execution_count": 3,
   "metadata": {},
   "outputs": [],
   "source": [
    "#Bond energy algorithm\n",
    "def BEA():\n",
    "    ca = []\n",
    "    ca.append(0)\n",
    "    ca.append(1)\n",
    "    index  = 2\n",
    "    while index < n_attributes:\n",
    "        maxi = -1 \n",
    "        maxc = -100000\n",
    "        for i in range(1,index):\n",
    "                con = cont(ca[i-1],index,ca[i])\n",
    "                print(\"Index \", i+1, \" \", \"cont \", ca[i],index+1,ca[i]+1, con)\n",
    "                if con > maxc:\n",
    "                    maxi = i\n",
    "                    maxc = con\n",
    "        #boundary left\n",
    "        con = cont(-1,index,ca[0])\n",
    "        print(\"Index \", i+1, \" \", \"cont \", 1,index+1,ca[0]+1, con)\n",
    "        if con > maxc:\n",
    "            maxi = 0\n",
    "            maxc = con\n",
    "        #boundary right\n",
    "        con = cont(ca[index-1],index,-1)\n",
    "        print(\"Index \", i+1, \" \", \"cont \", ca[index-1]+1,index+1,index+2, con)\n",
    "        if con > maxc:\n",
    "            maxi = index\n",
    "        if maxi==index:\n",
    "            ca.append(index)    \n",
    "        else:\n",
    "            ca.append(0)\n",
    "            for j in range(index,maxi,-1):\n",
    "                ca[j]=ca[j-1]\n",
    "            ca[maxi] = index\n",
    "        print(ca)\n",
    "        index = index + 1\n",
    "    print(\"FINAL Clustered Affinity Matrix\")\n",
    "    print(ca)\n",
    "    return ca"
   ]
  },
  {
   "cell_type": "code",
   "execution_count": 4,
   "metadata": {},
   "outputs": [
    {
     "name": "stdout",
     "output_type": "stream",
     "text": [
      "bond  0 bond 2  =  4410\n",
      "bond  2 bond 1  =  890\n",
      "bond  0 bond 1  =  225\n",
      "Index  2   cont  1 3 2 10150\n",
      "bond  -1 bond 2  =  0\n",
      "bond  2 bond 0  =  4410\n",
      "bond  -1 bond 0  =  0\n",
      "Index  2   cont  1 3 1 8820\n",
      "bond  1 bond 2  =  890\n",
      "bond  2 bond -1  =  0\n",
      "bond  1 bond -1  =  0\n",
      "Index  2   cont  2 3 4 1780\n",
      "[0, 2, 1]\n",
      "bond  0 bond 3  =  135\n",
      "bond  3 bond 2  =  768\n",
      "bond  0 bond 2  =  4410\n",
      "Index  2   cont  2 4 3 -7014\n",
      "bond  2 bond 3  =  768\n",
      "bond  3 bond 1  =  11865\n",
      "bond  2 bond 1  =  890\n",
      "Index  3   cont  1 4 2 23486\n",
      "bond  -1 bond 3  =  0\n",
      "bond  3 bond 0  =  135\n",
      "bond  -1 bond 0  =  0\n",
      "Index  3   cont  1 4 1 270\n",
      "bond  1 bond 3  =  11865\n",
      "bond  3 bond -1  =  0\n",
      "bond  1 bond -1  =  0\n",
      "Index  3   cont  2 4 5 23730\n",
      "[0, 2, 1, 3]\n",
      "FINAL Clustered Affinity Matrix\n",
      "[0, 2, 1, 3]\n",
      "[[45, 45, 0, 0], [45, 53, 5, 3], [0, 5, 80, 75], [0, 3, 75, 78]]\n"
     ]
    }
   ],
   "source": [
    "CA = BEA()\n",
    "ca = [[0 for i in range(n_attributes)] for j in range(n_attributes)]\n",
    "for i in range(n_attributes):\n",
    "    for j in range(n_attributes):\n",
    "        ca[i][j] = aam[CA[i]][CA[j]]\n",
    "\n",
    "print(ca)"
   ]
  },
  {
   "cell_type": "code",
   "execution_count": 11,
   "metadata": {},
   "outputs": [],
   "source": [
    "\n",
    "def shift_row(mat):\n",
    "    row_first=[]\n",
    "    for i in range(n_attributes):\n",
    "        row_first.append(mat[0][i])\n",
    "    for i in range(1,n_attributes):\n",
    "        for j in range(n_attributes):\n",
    "            mat[i-1][j]=mat[i][j]\n",
    "    for i in range(n_attributes):\n",
    "        mat[n_attributes-1][i]=row_first[i]\n",
    "   # print(row_first)\n",
    "    return mat\n",
    "   \n",
    "def shift_column(mat):\n",
    "    col_first=[]\n",
    "    for i in range(n_attributes):\n",
    "        col_first.append(mat[i][0])\n",
    "    for i in range(n_attributes):\n",
    "        for j in range(1,n_attributes):\n",
    "            mat[i][j-1]=mat[i][j]\n",
    "    for i in range(n_attributes):\n",
    "        mat[i][n_attributes-1]=col_first[i]\n",
    "    return mat"
   ]
  },
  {
   "cell_type": "code",
   "execution_count": 56,
   "metadata": {},
   "outputs": [],
   "source": [
    "#Partioning"
   ]
  },
  {
   "cell_type": "code",
   "execution_count": 13,
   "metadata": {},
   "outputs": [
    {
     "name": "stdout",
     "output_type": "stream",
     "text": [
      "[[0, 2], [1, 3], [1, 2], [2, 3]]\n"
     ]
    }
   ],
   "source": [
    "start=n_attributes-2\n",
    "aum = [[1,0,1,0],[0,1,0,1],[0,1,1,0],[0,0,1,1]]\n",
    "AQ=[]\n",
    "for i in range(n_attributes):\n",
    "    row=[]\n",
    "    for j in range(n_attributes):\n",
    "        if aum[i][j]==1:\n",
    "            row.append(j)\n",
    "    AQ.append(row)\n",
    "\n",
    "print(AQ)"
   ]
  },
  {
   "cell_type": "code",
   "execution_count": 15,
   "metadata": {},
   "outputs": [
    {
     "name": "stdout",
     "output_type": "stream",
     "text": [
      "[0, 2]\n",
      "[]\n",
      "[1, 3]\n"
     ]
    }
   ],
   "source": [
    "TQ=[]\n",
    "BQ=[]\n",
    "OQ=[]\n",
    "\n",
    "for i in range(n_queries):\n",
    "    if AQ[i][1] <= start:\n",
    "        TQ.append(i)\n",
    "    elif AQ[i][0] > start:\n",
    "        BQ.append(i)\n",
    "    else:\n",
    "        OQ.append(i)\n",
    "\n",
    "    \n",
    "print(TQ)\n",
    "print(BQ)\n",
    "print(OQ)"
   ]
  },
  {
   "cell_type": "code",
   "execution_count": 16,
   "metadata": {},
   "outputs": [],
   "source": [
    "CTQ=0\n",
    "CBQ=0\n",
    "COQ=0\n",
    "\n",
    "for i in range(len(TQ)):\n",
    "    CTQ=CTQ+pre[TQ[i]]\n",
    "for i in range(len(BQ)):\n",
    "    CBQ=CBQ+pre[BQ[i]]\n",
    "for i in range(len(OQ)):\n",
    "    COQ=COQ+pre[OQ[i]]\n",
    "best=CTQ*CBQ-COQ*COQ"
   ]
  },
  {
   "cell_type": "code",
   "execution_count": 17,
   "metadata": {},
   "outputs": [
    {
     "name": "stdout",
     "output_type": "stream",
     "text": [
      "First Half\n",
      "{1, 3}\n",
      "Second Half\n",
      "{1, 2, 4}\n",
      "Split is:\n",
      "2\n",
      "Shift is\n",
      "0\n"
     ]
    }
   ],
   "source": [
    "shift=0\n",
    "for i in range(4):\n",
    "    for j in range(n_attributes-3,0,-1):\n",
    "        TQ=[]\n",
    "        BQ=[]\n",
    "        OQ=[]\n",
    "\n",
    "        for k in range(n_queries):\n",
    "            if AQ[k][1] <= j:\n",
    "                TQ.append(i)\n",
    "            elif AQ[k][0] > j:\n",
    "                BQ.append(k)\n",
    "            else:\n",
    "                OQ.append(k)\n",
    "        CTQ=0\n",
    "        CBQ=0\n",
    "        COQ=0\n",
    "        \n",
    "        for k in range(len(TQ)):\n",
    "            CTQ=CTQ+pre[TQ[k]]\n",
    "        for k in range(len(BQ)):\n",
    "            CBQ=CBQ+pre[BQ[k]]\n",
    "        for k in range(len(OQ)):\n",
    "            COQ=COQ+pre[OQ[k]]\n",
    "        z=CTQ*CBQ-COQ*COQ\n",
    "        if z>best:\n",
    "            best=z\n",
    "            start=j\n",
    "            shift=i\n",
    "    shift_row(ca)\n",
    "    shift_column(ca)\n",
    "    shift_row(aum)\n",
    "    shift_column(aum)\n",
    "    AQ=[]\n",
    "    for i in range(n_attributes):\n",
    "        row=[]\n",
    "        for j in range(n_attributes):\n",
    "            if aum[i][j]==1:\n",
    "                row.append(j)\n",
    "        AQ.append(row)\n",
    "last=n_attributes-1\n",
    "for i in range(shift):\n",
    "    ele=CA[last]\n",
    "    for j in range(last,1,-1):\n",
    "        CA[j]=CA[j-1]\n",
    "    CA[0]=ele\n",
    "F1={1}\n",
    "F2={1}\n",
    "print(\"First Half\")\n",
    "for i in range(0,start):\n",
    "    F1.add(CA[i]+1)\n",
    "print(F1)    \n",
    "print(\"Second Half\")\n",
    "\n",
    "for i in range(start,n_attributes):\n",
    "    F2.add(CA[i]+1)\n",
    "print(F2)  \n",
    "print(\"Split is:\")\n",
    "print(start)\n",
    "print(\"Shift is\")\n",
    "print(shift)\n"
   ]
  },
  {
   "cell_type": "code",
   "execution_count": null,
   "metadata": {},
   "outputs": [],
   "source": []
  }
 ],
 "metadata": {
  "kernelspec": {
   "display_name": "Python 3",
   "language": "python",
   "name": "python3"
  },
  "language_info": {
   "codemirror_mode": {
    "name": "ipython",
    "version": 3
   },
   "file_extension": ".py",
   "mimetype": "text/x-python",
   "name": "python",
   "nbconvert_exporter": "python",
   "pygments_lexer": "ipython3",
   "version": "3.6.4"
  }
 },
 "nbformat": 4,
 "nbformat_minor": 2
}
